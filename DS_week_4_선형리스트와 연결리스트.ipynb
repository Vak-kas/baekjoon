{
  "cells": [
    {
      "cell_type": "markdown",
      "metadata": {
        "id": "view-in-github",
        "colab_type": "text"
      },
      "source": [
        "<a href=\"https://colab.research.google.com/github/Vak-kas/baekjoon/blob/main/DS_week_4_%EC%84%A0%ED%98%95%EB%A6%AC%EC%8A%A4%ED%8A%B8%EC%99%80%20%EC%97%B0%EA%B2%B0%EB%A6%AC%EC%8A%A4%ED%8A%B8.ipynb\" target=\"_parent\"><img src=\"https://colab.research.google.com/assets/colab-badge.svg\" alt=\"Open In Colab\"/></a>"
      ]
    },
    {
      "cell_type": "markdown",
      "metadata": {
        "collapsed": false,
        "id": "oI90OdGCVMyY"
      },
      "source": [
        "# 수강생 분의 이름과 학번을 입력해주세요."
      ]
    },
    {
      "cell_type": "code",
      "execution_count": null,
      "metadata": {
        "id": "I25sAp7TVMyd",
        "pycharm": {
          "name": "#%%\n"
        },
        "vscode": {
          "languageId": "python"
        }
      },
      "outputs": [],
      "source": [
        "# 여러분의 학번과 이름 문자열을 화면에 출력해주세요.\n",
        "\n",
        "id = '20210000'  # 수강생분의 학번 입력해주세요\n",
        "name = '홍길동'  # 수강생분의 이름 입력해주세요\n",
        "print(id, name)"
      ]
    },
    {
      "cell_type": "markdown",
      "metadata": {
        "collapsed": false,
        "id": "CWAMVzYqVMye"
      },
      "source": [
        "# 실습 문제"
      ]
    },
    {
      "cell_type": "code",
      "execution_count": 1,
      "metadata": {
        "id": "J2AHXW58VMyf",
        "pycharm": {
          "name": "#%%\n"
        },
        "vscode": {
          "languageId": "python"
        },
        "colab": {
          "base_uri": "https://localhost:8080/"
        },
        "outputId": "a54797d7-aa2c-40a3-a691-26ddf72f8d60"
      },
      "outputs": [
        {
          "output_type": "stream",
          "name": "stdout",
          "text": [
            "좋아하는 프로그래밍 언어 입력해주세요: 파이썬, C, C++, JAVA\n",
            "['파이썬,', 'C,', 'C++,', 'JAVA']\n"
          ]
        }
      ],
      "source": [
        "# 문제 1. 입력값을 이용하여 선형 리스트를 생성하라.\n",
        "# 제한조건: 반복문, 함수 사용\n",
        "# 입력 예시: 파이썬, C, C++, JAVA\n",
        "# 출력 예시\n",
        "# >> print(languages)\n",
        "# ['파이썬', 'C', 'C++', 'JAVA']\n",
        "\n",
        "languages = []\n",
        "\n",
        "def add_data(language) :\n",
        "    # 코드 작성 구간\n",
        "    languages.append(None);\n",
        "    length = len(languages);\n",
        "    languages[length-1] = language\n",
        "\n",
        "    \n",
        "\n",
        "# 실행 구문 (아래 코드를 수정하지 마시오.)\n",
        "input_data = input('좋아하는 프로그래밍 언어 입력해주세요: ')\n",
        "input_data = input_data.split()\n",
        "for language in input_data:\n",
        "    add_data(language)\n",
        "print(languages)"
      ]
    },
    {
      "cell_type": "code",
      "execution_count": 2,
      "metadata": {
        "id": "fFeMg0IuVMyf",
        "pycharm": {
          "name": "#%%\n"
        },
        "vscode": {
          "languageId": "python"
        },
        "colab": {
          "base_uri": "https://localhost:8080/"
        },
        "outputId": "3548bdda-d36e-4a7f-fa12-2fd3fd98a442"
      },
      "outputs": [
        {
          "output_type": "stream",
          "name": "stdout",
          "text": [
            "삽입할 프로그래밍 언어와 삽입할 위치를 입력해주세요: (예시: MATLAB, 2)MATLAB 2\n",
            "['파이썬', 'C', 'MATLAB', 'C++', 'JAVA']\n"
          ]
        }
      ],
      "source": [
        "# 문제 2. 입력값을 이용하여 선형 리스트에 데이터를 삽입하라.\n",
        "# 제한조건: 반복문, 함수 사용\n",
        "# 입력 예시: MATLAB, 2\n",
        "# 출력 예시\n",
        "# >> print(languages)\n",
        "# ['파이썬', 'C', 'MATLAB', 'C++', 'JAVA']\n",
        "\n",
        "languages = ['파이썬', 'C', 'C++', 'JAVA']\n",
        "\n",
        "def insert_data(language, position):\n",
        "    if position < 0 or position > len(languages):\n",
        "        print(\"데이터를 삽입할 범위를 벗어났습니다.\")\n",
        "        return\n",
        "\n",
        "    # 코드 작성 구간\n",
        "\n",
        "    languages.append(None);\n",
        "    for i in range(len(languages)-1, position, -1):\n",
        "        languages[i], languages[i-1] = languages[i-1], languages[i];\n",
        "\n",
        "    languages[position] = language\n",
        "\n",
        "\n",
        "\n",
        "\n",
        "    \n",
        "    \n",
        "\n",
        "# 실행 구문 (아래 코드를 수정하지 마시오.)\n",
        "input_data = input('삽입할 프로그래밍 언어와 삽입할 위치를 입력해주세요: (예시: MATLAB, 2)')\n",
        "language, position = input_data.split()\n",
        "insert_data(language, int(position))\n",
        "print(languages)"
      ]
    },
    {
      "cell_type": "code",
      "execution_count": 3,
      "metadata": {
        "id": "YquJuIimVMyf",
        "pycharm": {
          "name": "#%%\n"
        },
        "vscode": {
          "languageId": "python"
        },
        "colab": {
          "base_uri": "https://localhost:8080/"
        },
        "outputId": "23908d7c-b967-4546-aa82-c2febec37cc5"
      },
      "outputs": [
        {
          "output_type": "stream",
          "name": "stdout",
          "text": [
            "# 삭제 전\n",
            "['파이썬', 'C', 'MATLAB', 'C++', 'JAVA']\n",
            "삭제할 프로그래밍 언어 위치를 입력해주세요: (예시: 2)2\n",
            "# 삭제 후\n",
            "['파이썬', 'C', 'C++', 'JAVA']\n"
          ]
        }
      ],
      "source": [
        "# 문제 3. 입력값을 이용하여 선형 리스트의 데이터를 삭제하라.\n",
        "# 제한조건: 반복문, 함수 사용\n",
        "# 입력 예시: 2\n",
        "# 출력 예시\n",
        "# >> print(languages)\n",
        "# ['파이썬', 'C', 'C++', 'JAVA']\n",
        "\n",
        "languages = ['파이썬', 'C', 'MATLAB', 'C++', 'JAVA']\n",
        "\n",
        "def delete_data(position):\n",
        "    if position < 0 or position > len(languages):\n",
        "        print(\"데이터를 삭제할 범위를 벗어났습니다.\")\n",
        "        return\n",
        "\n",
        "    # 코드 작성 구간\n",
        "    languages[position] = None;\n",
        "    for i in range(position, len(languages)-1):\n",
        "        languages[i], languages[i+1] = languages[i+1], languages[i];\n",
        "\n",
        "    languages.pop();\n",
        "    \n",
        "\n",
        "\n",
        "# 실행 구문 (아래 코드를 수정하지 마시오.)\n",
        "print('# 삭제 전')\n",
        "print(languages)\n",
        "input_data = input('삭제할 프로그래밍 언어 위치를 입력해주세요: (예시: 2)')\n",
        "delete_data(int(input_data))\n",
        "print('# 삭제 후')\n",
        "print(languages)"
      ]
    },
    {
      "cell_type": "code",
      "execution_count": null,
      "metadata": {
        "id": "jUygaOcjVMyf",
        "pycharm": {
          "name": "#%%\n"
        },
        "vscode": {
          "languageId": "python"
        }
      },
      "outputs": [],
      "source": [
        "# 문제 4. 입력값을 이용하여 선형 리스트 데이터 추가, 삽입, 삭제하는 코드를 작성하라.\n",
        "# 입출력 예시\n",
        "# 선택하세요(1: 추가, 2: 삽입, 3: 삭제, 4: 종료)--> 1\n",
        "# 추가할 데이터--> 파이썬\n",
        "# ['파이썬']\n",
        "# 선택하세요(1: 추가, 2: 삽입, 3: 삭제, 4: 종료)--> 1\n",
        "# 추가할 데이터--> JAVA\n",
        "# ['파이썬', 'JAVA']\n",
        "# 선택하세요(1: 추가, 2: 삽입, 3: 삭제, 4: 종료)--> 2\n",
        "# 삽입할 위치--> 1\n",
        "# 추가할 데이터--> MATLAB\n",
        "# ['파이썬', 'MATLAB', 'JAVA']\n",
        "# 선택하세요(1: 추가, 2: 삽입, 3: 삭제, 4: 종료)--> 3\n",
        "# 삭제할 위치--> 1\n",
        "# ['파이썬', 'JAVA']\n",
        "# 선택하세요(1: 추가, 2: 삽입, 3: 삭제, 4: 종료)--> 4\n",
        "# ['파이썬', 'JAVA']\n",
        "\n",
        "# 데이터 추가 함수\n",
        "def add_data(language) :\n",
        "    # 코드 작성 구간\n",
        "    \n",
        "\n",
        "\n",
        "# 데이터 삽입 함수\n",
        "def insert_data(language, position):\n",
        "    if position < 0 or position > len(languages):\n",
        "        print(\"데이터를 삽입할 범위를 벗어났습니다.\")\n",
        "        return\n",
        "\n",
        "    # 코드 작성 구간\n",
        "    \n",
        "\n",
        "\n",
        "# 데이터 삭제 함수\n",
        "def delete_data(position):\n",
        "    if position < 0 or position > len(languages):\n",
        "        print(\"데이터를 삭제할 범위를 벗어났습니다.\")\n",
        "        return\n",
        "\n",
        "    # 코드 작성 구간\n",
        "    \n",
        "    \n",
        "\n",
        "# 실행 구문 (아래 코드를 수정하지 마시오.)\n",
        "languages = []\n",
        "select = -1\t# 1: 추가, 2: 삽입, 3: 삭제, 4: 종료\n",
        "\n",
        "while select != 4:\n",
        "    select = int(input(\"선택하세요(1: 추가, 2: 삽입, 3: 삭제, 4: 종료)--> \"))\n",
        "\n",
        "    if select == 1 :\n",
        "        data = input(\"추가할 데이터--> \")\n",
        "        add_data(data)\n",
        "        print(languages)\n",
        "    elif select == 2 :\n",
        "        pos = int(input(\"삽입할 위치--> \"))\n",
        "        data = input(\"추가할 데이터--> \")\n",
        "        insert_data(data, pos)\n",
        "        print(languages)\n",
        "    elif select == 3 :\n",
        "        pos = int(input(\"삭제할 위치--> \"))\n",
        "        delete_data(pos)\n",
        "        print(languages)\n",
        "    elif select == 4 :\n",
        "        print(languages)\n",
        "    else :\n",
        "        print(\"1~4 중 하나를 입력하세요.\")\n",
        "        continue"
      ]
    },
    {
      "cell_type": "code",
      "execution_count": 7,
      "metadata": {
        "id": "MfJOLz_SVMyg",
        "pycharm": {
          "name": "#%%\n"
        },
        "vscode": {
          "languageId": "python"
        },
        "colab": {
          "base_uri": "https://localhost:8080/"
        },
        "outputId": "0d103fe1-6e5e-44f1-e48e-ce6edc3d03a8"
      },
      "outputs": [
        {
          "output_type": "stream",
          "name": "stdout",
          "text": [
            "P(x) = +3x^4-4x^3+0x^2+5x^1+2x^0\n",
            "X 값-->2\n",
            "28\n"
          ]
        }
      ],
      "source": [
        "# 문제 5. 입력값을 이용하여 다항식 형태를 출력하는 함수(printPoly)와 다항식을 계산하는 함수(calcPoly)를 작성하라.\n",
        "# 입력 예시: 2\n",
        "# 출력 예시\n",
        "# P(x) = +3x^4 -4x^3 +0x^2 +5x^1 +2x^0\n",
        "# 28\n",
        "\n",
        "def printPoly(p_x):\n",
        "    term = len(p_x) - 1\t# 최고차항 숫자 = 배열길이-1\n",
        "    polyStr = \"P(x) = \"\n",
        "\n",
        "    for i in range(len(px)):\n",
        "        coef = p_x[i]\t# 계수\n",
        "\n",
        "        # 코드 작성 구간\n",
        "        if coef >=0:\n",
        "            polyStr +=\"+\";\n",
        "        \n",
        "        tmp = (f\"{coef}x^{term}\")\n",
        "        term-=1;\n",
        "        polyStr +=tmp;\n",
        "        \n",
        "        \n",
        "        \n",
        "    return polyStr\n",
        "\n",
        "\n",
        "def calcPoly(xValue, p_x):\n",
        "    retValue = 0\n",
        "    term = len(p_x) - 1  # 최고차항 숫자 = 배열길이 - 1\n",
        "\n",
        "    for i in range(len(px)):\n",
        "        # 코드 작성 구간\n",
        "        coef = p_x[i];\n",
        "\n",
        "        retValue += coef*(xValue**term);\n",
        "        term-=1;\n",
        "        \n",
        "        \n",
        "\n",
        "    return retValue\n",
        "\n",
        "\n",
        "# 실행 구문 (아래 코드를 수정하지 마시오.)\n",
        "px = [3, -4, 0, 5, 2]\t\t\t# = +3x^4 -4x^3 +0x^2 +5x^1 +2x^0\n",
        "\n",
        "pStr = printPoly(px)\n",
        "print(pStr)\n",
        "\n",
        "xValue = int(input(\"X 값-->\"))\n",
        "\n",
        "pxValue = calcPoly(xValue, px)\n",
        "print(pxValue)"
      ]
    },
    {
      "cell_type": "code",
      "execution_count": 8,
      "metadata": {
        "id": "ItLrYzCrVMyg",
        "pycharm": {
          "name": "#%%\n"
        },
        "vscode": {
          "languageId": "python"
        },
        "colab": {
          "base_uri": "https://localhost:8080/"
        },
        "outputId": "a97a6c48-2aed-4473-e22e-e0c0df98e545"
      },
      "outputs": [
        {
          "output_type": "stream",
          "name": "stdout",
          "text": [
            "P(x) = +7x^3 -4x^2 +5x^0 \n",
            "X 값-->2\n",
            "45\n"
          ]
        }
      ],
      "source": [
        "# 문제 6. 2차원 입력값을 이용하여 다항식 형태를 출력하는 함수(printPoly)와 다항식을 계산하는 함수(calcPoly)를 작성하라.\n",
        "# 입력 예시: 2\n",
        "# 출력 예시\n",
        "# P(x) = +7x^3 -4x^2 +5x^0\n",
        "# 45\n",
        "\n",
        "def printPoly(p_x):\n",
        "    polyStr = \"P(x) = \"\n",
        "\n",
        "    # 코드 작성 구간\n",
        "    for i in range(len(p_x[0])):\n",
        "        term = p_x[0][i]\n",
        "        coef = p_x[1][i]\n",
        "\n",
        "        if coef >= 0:\n",
        "            polyStr += '+'\n",
        "        \n",
        "        polyStr += str(coef) + 'x^' + str(term) + ' '\n",
        "\n",
        "\n",
        "    \n",
        "    \n",
        "\n",
        "    return polyStr   \n",
        "\n",
        "\n",
        "def calcPoly(xValue, p_x):\n",
        "    retValue = 0\n",
        "\n",
        "    # 코드 작성 구간\n",
        "    for i in range(len(p_x[0])):\n",
        "        term = p_x[0][i]\n",
        "        coef = p_x[1][i]\n",
        "        retValue += coef * xValue ** term\n",
        "\n",
        "    return retValue\n",
        "    \n",
        "    \n",
        "    \n",
        "    return retValue\n",
        "\n",
        "\n",
        "# 실행 구문 (아래 코드를 수정하지 마시오.)\n",
        "px = [ [3, 2, 0], [7, -4, 5] ]  # 1행: 차수, 2행: 계수\n",
        "\n",
        "pStr = printPoly(px)\n",
        "print(pStr)\n",
        "\n",
        "xValue = int(input(\"X 값-->\"))\n",
        "\n",
        "pxValue = calcPoly(xValue, px)\n",
        "print(pxValue)\n"
      ]
    },
    {
      "cell_type": "code",
      "execution_count": 9,
      "metadata": {
        "id": "eEizY37tVMyg",
        "pycharm": {
          "name": "#%%\n"
        },
        "vscode": {
          "languageId": "python"
        },
        "colab": {
          "base_uri": "https://localhost:8080/"
        },
        "outputId": "036b702b-ba3a-403d-c781-8b196d85b2b1"
      },
      "outputs": [
        {
          "output_type": "stream",
          "name": "stdout",
          "text": [
            "파이썬 C C++ JAVA MATLAB "
          ]
        }
      ],
      "source": [
        "# 문제 7. 입력값을 이용하여 단순 연결 리스트를 생성하고 출력하라.\n",
        "# 입력 예시\n",
        "# dataArray = [\"파이썬\", \"C\", \"C++\", \"JAVA\", \"MATLAB\"]\n",
        "# 출력 예시\n",
        "# >> printNodes(head)\n",
        "# 파이썬 C C++ JAVA MATLAB\n",
        "\n",
        "class Node():\n",
        "\tdef __init__ (self):\n",
        "\t\tself.data = None\n",
        "\t\tself.link = None\n",
        "\n",
        "def printNodes(start):\n",
        "    # 코드 작성 구간\n",
        "    current = start;\n",
        "    \n",
        "    if current ==None:\n",
        "        return;\n",
        "    \n",
        "    print(current.data, end=\" \");\n",
        "    while current.link !=None:\n",
        "        current = current.link;\n",
        "        print(current.data, end= \" \");\n",
        "    \n",
        "\n",
        "\n",
        "# 실행 구문 (아래 코드를 수정하지 마시오.)\n",
        "memory = []\n",
        "head, current, pre = None, None, None\n",
        "dataArray = [\"파이썬\", \"C\", \"C++\", \"JAVA\", \"MATLAB\"]\n",
        "\n",
        "node = Node()\t\t# 첫 번째 노드\n",
        "node.data = dataArray[0]\n",
        "head = node\n",
        "memory.append(node)\n",
        "\n",
        "for data in dataArray[1:]:\t# 두 번째 이후 노드\n",
        "    pre = node\n",
        "    node = Node()\n",
        "    node.data = data\n",
        "    pre.link = node\n",
        "    memory.append(node)\n",
        "\n",
        "printNodes(head)\n"
      ]
    },
    {
      "cell_type": "code",
      "execution_count": 14,
      "metadata": {
        "id": "70qJLyq4VMyh",
        "pycharm": {
          "name": "#%%\n"
        },
        "vscode": {
          "languageId": "python"
        },
        "colab": {
          "base_uri": "https://localhost:8080/"
        },
        "outputId": "00ffa99a-3227-4582-b2f9-11177379d2cb"
      },
      "outputs": [
        {
          "output_type": "stream",
          "name": "stdout",
          "text": [
            "## 초기 연결 리스트 ##\n",
            "파이썬 C++ MATLAB \n",
            "## 파이썬 위치에 R 추가 결과(첫번째 노드 삽입) ##\n",
            "R 파이썬 C++ MATLAB \n",
            "## C++ 위치에 C 추가 결과(중간 노드 삽입) ##\n",
            "R 파이썬 C C++ MATLAB \n",
            "## MATLAB 위치에 JAVA 추가 결과(마지막 노드 삽입) ##\n",
            "R 파이썬 C C++ JAVA MATLAB "
          ]
        }
      ],
      "source": [
        "# 문제 8. 노드 삽입 함수를 추가하고 입력값을 이용하여 단순 연결 리스트를 생성하라.\n",
        "# 출력 예시\n",
        "# ## 초기 연결 리스트 ##\n",
        "# 파이썬 C++ MATLAB\n",
        "# ## C++ 위치에 C 추가 결과 ##\n",
        "# 파이썬 C C++ MATLAB\n",
        "# ## MATLAB 위치에 JAVA 추가 결과 ##\n",
        "# 파이썬 C C++ JAVA MATLAB\n",
        "\n",
        "class Node():\n",
        "\tdef __init__ (self):\n",
        "\t\tself.data = None\n",
        "\t\tself.link = None\n",
        "\n",
        "def printNodes(start):\n",
        "    # 코드 작성 구간\n",
        "    current = start;\n",
        "    \n",
        "    if current ==None:\n",
        "        return;\n",
        "    \n",
        "    print(current.data, end=\" \");\n",
        "    while current.link !=None:\n",
        "        current = current.link;\n",
        "        print(current.data, end= \" \");\n",
        "    \n",
        "    \n",
        "\n",
        "\n",
        "def insertNode(findData, insertData):\n",
        "    global memory, head, current, pre\n",
        "\n",
        "    current = head;\n",
        "    # 코드 작성 부분(첫 번째 노드 삽입)\n",
        "    if current.data == findData:\n",
        "        node = Node();\n",
        "        node.data = insertData;\n",
        "        node.link = current;\n",
        "        head = node;\n",
        "    \n",
        "    \n",
        "    # 코드 작성 부분(중간 노드 삽입)\n",
        "    else:\n",
        "        flag = False;\n",
        "        while current.link !=None:\n",
        "            pre = current;\n",
        "            current = current.link;\n",
        "\n",
        "            if current.data == findData:\n",
        "                node = Node();\n",
        "                node.data = insertData;\n",
        "                node.link = current;\n",
        "                pre.link = node;\n",
        "                flag = True;\n",
        "                break;\n",
        "\n",
        "    \n",
        "    # 코드 작성 부분(마지막 노드 삽입)\n",
        "        if not flag:\n",
        "            node = Node();\n",
        "            node.data = insertData;\n",
        "            pre.link = node;\n",
        "    \n",
        "\n",
        "\n",
        "\n",
        "# 실행 구문 (아래 코드를 수정하지 마시오.)\n",
        "memory = []\n",
        "head, current, pre = None, None, None\n",
        "dataArray = [\"파이썬\", \"C++\", \"MATLAB\"]\n",
        "\n",
        "node = Node()\t\t\t# 첫 번째 노드\n",
        "node.data = dataArray[0]\n",
        "head = node\n",
        "memory.append(node)\n",
        "\n",
        "for data in dataArray[1:]:\t\t# 두 번째 노드부터\n",
        "    pre = node\n",
        "    node = Node()\n",
        "    node.data = data\n",
        "    pre.link = node\n",
        "    memory.append(node)\n",
        "\n",
        "print('## 초기 연결 리스트 ##')\n",
        "printNodes(head)\n",
        "\n",
        "print('\\n## 파이썬 위치에 R 추가 결과(첫번째 노드 삽입) ##')\n",
        "insertNode(\"파이썬\", \"R\")\n",
        "printNodes(head)\n",
        "\n",
        "print('\\n## C++ 위치에 C 추가 결과(중간 노드 삽입) ##')\n",
        "insertNode(\"C++\", \"C\")\n",
        "printNodes(head)\n",
        "\n",
        "print('\\n## MATLAB 위치에 JAVA 추가 결과(마지막 노드 삽입) ##')\n",
        "insertNode(\"MATLAB\", \"JAVA\")\n",
        "printNodes(head)"
      ]
    },
    {
      "cell_type": "code",
      "execution_count": 17,
      "metadata": {
        "id": "yiDpUdTlVMyh",
        "pycharm": {
          "name": "#%%\n"
        },
        "vscode": {
          "languageId": "python"
        },
        "colab": {
          "base_uri": "https://localhost:8080/"
        },
        "outputId": "82f9c5f7-4b30-4a11-99ea-6144d3f0ce6e"
      },
      "outputs": [
        {
          "output_type": "stream",
          "name": "stdout",
          "text": [
            "## 초기 연결 리스트 ##\n",
            "R 파이썬 C C++ JAVA MATLAB \n",
            "## R 삭제 결과 ##\n",
            "파이썬 C C++ JAVA MATLAB \n",
            "## C++ 삭제 결과 ##\n",
            "파이썬 C JAVA MATLAB \n",
            "## MATLAB 삭제 결과 ##\n",
            "파이썬 C JAVA "
          ]
        }
      ],
      "source": [
        "# 문제 9. 노드 삭제 함수를 추가하고 입력값을 이용하여 단순 연결 리스트를 생성하라.\n",
        "# 출력 예시\n",
        "# ## 초기 연결 리스트 ##\n",
        "# R 파이썬 C C++ JAVA MATLAB\n",
        "# ## R 삭제 결과 ##\n",
        "# 파이썬 C C++ JAVA MATLAB\n",
        "# ## C++ 삭제 결과 ##\n",
        "# 파이썬 C JAVA MATLAB\n",
        "# ## MATLAB 삭제 결과 ##\n",
        "# 파이썬 C JAVA\n",
        "\n",
        "class Node():\n",
        "\tdef __init__ (self):\n",
        "\t\tself.data = None\n",
        "\t\tself.link = None\n",
        "\n",
        "\n",
        "def printNodes(start):\n",
        "    # 코드 작성 구간\n",
        "    current = start;\n",
        "    \n",
        "    if current ==None:\n",
        "        return;\n",
        "    \n",
        "    print(current.data, end=\" \");\n",
        "    while current.link !=None:\n",
        "        current = current.link;\n",
        "        print(current.data, end= \" \");\n",
        "    \n",
        "    \n",
        "\n",
        "\n",
        "\n",
        "def deleteNode(deleteData):\n",
        "    global memory, head, current, pre\n",
        "\n",
        "    # 코드 작성 구간\n",
        "    current = head;\n",
        "    if current.data == deleteData:\n",
        "        head = current.link;\n",
        "\n",
        "    else:\n",
        "        while current.link !=None:\n",
        "            pre = current;\n",
        "            current = current.link;\n",
        "\n",
        "            if current.data == deleteData:\n",
        "                pre.link = current.link;\n",
        "                del current\n",
        "                break;\n",
        "    \n",
        "    \n",
        "\n",
        "# 실행 구문 (아래 코드를 수정하지 마시오.)\n",
        "memory = []\n",
        "head, current, pre = None, None, None\n",
        "dataArray = ['R', '파이썬', 'C', 'C++', 'JAVA', 'MATLAB']\n",
        "\n",
        "node = Node()\t\t\t# 첫 번째 노드\n",
        "node.data = dataArray[0]\n",
        "head = node\n",
        "memory.append(node)\n",
        "\n",
        "for data in dataArray[1:] :\t\t# 두 번째 노드부터\n",
        "    pre = node\n",
        "    node = Node()\n",
        "    node.data = data\n",
        "    pre.link = node\n",
        "    memory.append(node)\n",
        "\n",
        "print('## 초기 연결 리스트 ##')\n",
        "printNodes(head)\n",
        "\n",
        "print('\\n## R 삭제 결과 ##')\n",
        "deleteNode(\"R\")\n",
        "printNodes(head)\n",
        "\n",
        "print('\\n## C++ 삭제 결과 ##')\n",
        "deleteNode(\"C++\")\n",
        "printNodes(head)\n",
        "\n",
        "print('\\n## MATLAB 삭제 결과 ##')\n",
        "deleteNode(\"MATLAB\")\n",
        "printNodes(head)"
      ]
    },
    {
      "cell_type": "code",
      "execution_count": 19,
      "metadata": {
        "id": "AlmjY2GGVMyi",
        "pycharm": {
          "name": "#%%\n"
        },
        "vscode": {
          "languageId": "python"
        },
        "colab": {
          "base_uri": "https://localhost:8080/"
        },
        "outputId": "41517438-8c86-465e-b696-80922ed1b35f"
      },
      "outputs": [
        {
          "output_type": "stream",
          "name": "stdout",
          "text": [
            "## 초기 연결 리스트 ##\n",
            "R 파이썬 C C++ JAVA MATLAB \n",
            "## R 검색 결과 ##\n",
            "R\n",
            "## C++ 검색 결과 ##\n",
            "C++\n",
            "## MATLAB 검색 결과 ##\n",
            "MATLAB\n",
            "## Scala 검색 결과 ##\n",
            "None\n"
          ]
        }
      ],
      "source": [
        "# 문제 10. 노드 검색 함수를 추가하고 단순 연결 리스트에서 노드를 검색하라.\n",
        "# 출력 예시\n",
        "# ## 초기 연결 리스트 ##\n",
        "# R 파이썬 C C++ JAVA MATLAB\n",
        "# ## R 검색 결과 ##\n",
        "# R\n",
        "# ## C++ 검색 결과 ##\n",
        "# C++\n",
        "# ## MATLAB 검색 결과 ##\n",
        "# MATLAB\n",
        "\n",
        "class Node():\n",
        "\tdef __init__ (self):\n",
        "\t\tself.data = None\n",
        "\t\tself.link = None\n",
        "\n",
        "\n",
        "def printNodes(start):\n",
        "    # 코드 작성 구간\n",
        "    current = start;\n",
        "    \n",
        "    if current ==None:\n",
        "        return;\n",
        "    \n",
        "    print(current.data, end=\" \");\n",
        "    while current.link !=None:\n",
        "        current = current.link;\n",
        "        print(current.data, end= \" \");\n",
        "    \n",
        "    \n",
        "\n",
        "def findNode(findData):\n",
        "    global memory, head, current, pre\n",
        "    current = head\n",
        "\n",
        "    # 코드 작성 구간\n",
        "    current = head;\n",
        "    if current.data == findData:\n",
        "        result =  current;\n",
        "    else:\n",
        "        find_flag = False;\n",
        "        while current.link!=None:\n",
        "            \n",
        "            current = current.link;\n",
        "            if current.data == findData:\n",
        "                result = current;\n",
        "                find_flag = True;\n",
        "                break;\n",
        "\n",
        "        if not find_flag :\n",
        "            result = Node()\n",
        "\n",
        "    \n",
        "    \n",
        "\n",
        "    return result\n",
        "\n",
        "\n",
        "# 실행 구문 (아래 코드를 수정하지 마시오.)\n",
        "memory = []\n",
        "head, current, pre = None, None, None\n",
        "dataArray = ['R', '파이썬', 'C', 'C++', 'JAVA', 'MATLAB']\n",
        "\n",
        "node = Node()\t\t\t# 첫 번째 노드\n",
        "node.data = dataArray[0]\n",
        "head = node\n",
        "memory.append(node)\n",
        "\n",
        "for data in dataArray[1:] :\t\t# 두 번째 노드부터\n",
        "    pre = node\n",
        "    node = Node()\n",
        "    node.data = data\n",
        "    pre.link = node\n",
        "    memory.append(node)\n",
        "\n",
        "print('## 초기 연결 리스트 ##')\n",
        "printNodes(head)\n",
        "\n",
        "print('\\n## R 검색 결과 ##')\n",
        "f_node = findNode(\"R\")\n",
        "print(f_node.data)\n",
        "\n",
        "print('## C++ 검색 결과 ##')\n",
        "f_node = findNode(\"C++\")\n",
        "print(f_node.data)\n",
        "\n",
        "print('## MATLAB 검색 결과 ##')\n",
        "f_node = findNode(\"MATLAB\")\n",
        "print(f_node.data)\n",
        "\n",
        "print('## Scala 검색 결과 ##')\n",
        "f_node = findNode(\"Scala\")\n",
        "print(f_node.data)"
      ]
    },
    {
      "cell_type": "markdown",
      "metadata": {
        "collapsed": false,
        "id": "pljhzk6jVMyi"
      },
      "source": [
        "# 실습 과제"
      ]
    },
    {
      "cell_type": "code",
      "execution_count": 24,
      "metadata": {
        "id": "Ruhju84AVMyi",
        "pycharm": {
          "name": "#%%\n"
        },
        "vscode": {
          "languageId": "python"
        },
        "colab": {
          "base_uri": "https://localhost:8080/"
        },
        "outputId": "25c4162a-61f4-4a32-c7d7-3702e133e8ce"
      },
      "outputs": [
        {
          "output_type": "stream",
          "name": "stdout",
          "text": [
            "P(x) = +21x^5 -4x^2 +20x^3 \n",
            "X 값 --> 3\n",
            "5607\n"
          ]
        }
      ],
      "source": [
        "# 과제 1. 2차원 입력값을 이용하여 다항식 형태를 출력하는 함수(printPoly)와 다항식을 계산하는 함수(calcPoly)를 작성하라.\n",
        "        ## 단, 계수는 2차원 입력값(계수a, 계수b)의 곱한 결과를 그대로 출력한다.\n",
        "\n",
        "# 입력 예시: 3\n",
        "# 출력 예시\n",
        "# P(x) = +21x^5 -4x^2 +20x^3 \n",
        "# X 값 --> 3\n",
        "# 5607\n",
        "\n",
        "def printPoly(p_x):\n",
        "    polyStr = \"P(x) = \"\n",
        "\n",
        "    # 코드 작성 부분\n",
        "    for i in range(len(p_x[0])):\n",
        "        term = p_x[0][i]\t# 항 차수\n",
        "        coef_a = p_x[1][i]\t# 계수a\n",
        "        coef_b = p_x[2][i]\t# 계수b\n",
        "\n",
        "        coef_mul = coef_a * coef_b\n",
        "\n",
        "        if coef_mul >= 0:\n",
        "            polyStr += \"+\"\n",
        "\n",
        "        polyStr += str(coef_mul) + \"x^\" + str(term) + \" \"\n",
        "\n",
        "    return polyStr\n",
        "\n",
        "\n",
        "def calcPoly(xValue, p_x):\n",
        "    retValue = 0\n",
        "\n",
        "    # 코드 작성 부분\n",
        "    for i in range(len(p_x[0])):\n",
        "        term = p_x[0][i]\t# 항 차수\n",
        "        coef_a = p_x[1][i]\t# 계수a\n",
        "        coef_b = p_x[2][i]\t# 계수b\n",
        "        retValue += coef_a * coef_b * xValue ** term\n",
        "\n",
        "    return retValue\n",
        "\n",
        "\n",
        "# 실행 구문 (아래 코드를 수정하지 마시오.)\n",
        "px = [ [5, 2, 3], [3, 1, 4], [7, -4, 5] ]  # 1행: 차수, 2행: 계수a, 2행: 계수b\n",
        "\n",
        "pStr = printPoly(px)\n",
        "print(pStr)\n",
        "\n",
        "xValue = int(input(\"X 값 --> \"))\n",
        "\n",
        "pxValue = calcPoly(xValue, px)\n",
        "print(pxValue)"
      ]
    },
    {
      "cell_type": "code",
      "execution_count": 23,
      "metadata": {
        "id": "CpsWCdzaVMyj",
        "pycharm": {
          "name": "#%%\n"
        },
        "vscode": {
          "languageId": "python"
        },
        "colab": {
          "base_uri": "https://localhost:8080/"
        },
        "outputId": "2684c47f-d599-4421-cf31-865ce2a8bccb"
      },
      "outputs": [
        {
          "output_type": "stream",
          "name": "stdout",
          "text": [
            "0: 파이썬, 2: C, 4: JAVA, "
          ]
        }
      ],
      "source": [
        "# 과제 2. 입력값을 이용하여 단순 연결 리스트를 생성하고 '짝수 번째 요소'를 출력하라.\n",
        "        ## 단, index는 0부터 시작한다.\n",
        "\n",
        "# 입력 예시\n",
        "# dataArray = [\"파이썬\", \"HTML\", \"C\", \"C++\", \"JAVA\", \"MATLAB\"]\n",
        "# 출력 예시\n",
        "# >> printNodes(head)\n",
        "# 0: 파이썬, 2: C, 4: JAVA,\n",
        "\n",
        "class Node():\n",
        "\tdef __init__ (self):\n",
        "\t\tself.data = None\n",
        "\t\tself.link = None\n",
        "\n",
        "def printNodes(start):\n",
        "    # 코드 작성 부분\n",
        "    index = 0;\n",
        "    current = head;\n",
        "\n",
        "\n",
        "    print(f\"{index}: {current.data},\", end=\" \");\n",
        "    index+=1;\n",
        "    while current.link!=None:\n",
        "        current = current.link;\n",
        "        if index%2==0:\n",
        "            print(f\"{index}: {current.data},\", end=\" \");\n",
        "        index+=1;\n",
        "\n",
        "\n",
        "    \n",
        "\n",
        "\n",
        "\n",
        "\n",
        "# 실행 구문 (아래 코드를 수정하지 마시오.)\n",
        "memory = []\n",
        "head, current, pre = None, None, None\n",
        "dataArray = [\"파이썬\", \"HTML\", \"C\", \"C++\", \"JAVA\", \"MATLAB\"]\n",
        "\n",
        "node = Node()\t\t# 첫 번째 노드\n",
        "node.data = dataArray[0]\n",
        "head = node\n",
        "memory.append(node)\n",
        "\n",
        "for data in dataArray[1:]:\t# 두 번째 이후 노드\n",
        "    pre = node\n",
        "    node = Node()\n",
        "    node.data = data\n",
        "    pre.link = node\n",
        "    memory.append(node)\n",
        "\n",
        "printNodes(head)"
      ]
    },
    {
      "cell_type": "code",
      "execution_count": 25,
      "metadata": {
        "id": "YP7pw_l7VMyj",
        "pycharm": {
          "name": "#%%\n"
        },
        "vscode": {
          "languageId": "python"
        },
        "colab": {
          "base_uri": "https://localhost:8080/"
        },
        "outputId": "16961d03-3440-4de4-c826-f276fb48e9db"
      },
      "outputs": [
        {
          "output_type": "stream",
          "name": "stdout",
          "text": [
            "## 초기 연결 리스트 ##\n",
            "[1, '파이썬'] [2, 'C'], [3, 'C++'], [4, 'JAVA'], [5, 'MATLAB'], \n",
            "## R 삽입 결과 ##\n",
            "[1, '파이썬'] [2, 'C'], [3, 'C++'], [4, 'JAVA'], [0, 'R'], \n",
            "## JAVA 삭제 결과 ##\n",
            "[1, '파이썬'] [2, 'C'], [3, 'C++'], [4, 'JAVA'], [0, 'R'], \n",
            "## MATLAB 검색 결과 ##\n",
            "None\n"
          ]
        }
      ],
      "source": [
        "# 과제 3. 2차원의 데이터를 사용하는 단순 연결 리스트를 완성하라.\n",
        "# 출력 예시\n",
        "## 초기 연결 리스트 ##\n",
        "# [1, '파이썬'] [2, 'C'], [3, 'C++'], [4, 'JAVA'], [5, 'MATLAB'], \n",
        "# ## R 삽입 결과 ##\n",
        "# [0, 'R'] [1, '파이썬'], [2, 'C'], [3, 'C++'], [4, 'JAVA'], [5, 'MATLAB'], \n",
        "# ## JAVA 삭제 결과 ##\n",
        "# [0, 'R'] [1, '파이썬'], [2, 'C'], [3, 'C++'], [5, 'MATLAB'], \n",
        "# ## MATLAB 검색 결과 ##\n",
        "# [5, 'MATLAB']\n",
        "\n",
        "class Node():\n",
        "    def __init__ (self):\n",
        "        self.data = None\n",
        "        self.link = None\n",
        "\n",
        "\n",
        "def printNodes(start):\n",
        "    current = start\n",
        "    if current == None:\n",
        "        return\n",
        "    print(current.data, end = ' ')\n",
        "    while current.link != None:\n",
        "        current = current.link\n",
        "        print(current.data, end = ', ')\n",
        "\n",
        "\n",
        "def insertNode(findData, insertData):\n",
        "    global memory, head, current, pre\n",
        "\n",
        "    current = head;\n",
        "    # 코드 작성 부분(첫 번째 노드 삽입)\n",
        "    if current.data == findData:\n",
        "        node = Node();\n",
        "        node.data = insertData;\n",
        "        node.link = current;\n",
        "        head = node;\n",
        "    \n",
        "    \n",
        "    # 코드 작성 부분(중간 노드 삽입)\n",
        "    else:\n",
        "        flag = False;\n",
        "        while current.link !=None:\n",
        "            pre = current;\n",
        "            current = current.link;\n",
        "\n",
        "            if current.data == findData:\n",
        "                node = Node();\n",
        "                node.data = insertData;\n",
        "                node.link = current;\n",
        "                pre.link = node;\n",
        "                flag = True;\n",
        "                break;\n",
        "\n",
        "    \n",
        "    # 코드 작성 부분(마지막 노드 삽입)\n",
        "        if not flag:\n",
        "            node = Node();\n",
        "            node.data = insertData;\n",
        "            pre.link = node;\n",
        "\n",
        "\n",
        "\n",
        "def deleteNode(deleteData):\n",
        "    global memory, head, current, pre\n",
        "\n",
        "    # 코드 작성 구간\n",
        "    current = head;\n",
        "    if current.data == deleteData:\n",
        "        head = current.link;\n",
        "\n",
        "    else:\n",
        "        while current.link !=None:\n",
        "            pre = current;\n",
        "            current = current.link;\n",
        "\n",
        "            if current.data == deleteData:\n",
        "                pre.link = current.link;\n",
        "                del current\n",
        "                break;\n",
        "\n",
        "\n",
        "def findNode(findData):\n",
        "    global memory, head, current, pre\n",
        "    current = head\n",
        "\n",
        "    # 코드 작성 구간\n",
        "    current = head;\n",
        "    if current.data == findData:\n",
        "        result =  current;\n",
        "    else:\n",
        "        find_flag = False;\n",
        "        while current.link!=None:\n",
        "            \n",
        "            current = current.link;\n",
        "            if current.data == findData:\n",
        "                result = current;\n",
        "                find_flag = True;\n",
        "                break;\n",
        "\n",
        "        if not find_flag :\n",
        "            result = Node()\n",
        "\n",
        "    \n",
        "    \n",
        "\n",
        "    return result\n",
        "\n",
        "\n",
        "# 실행 구문 (아래 코드를 수정하지 마시오.)\n",
        "memory = []\n",
        "head, current, pre = None, None, None\n",
        "dataArray = [ [1, '파이썬'], [2, 'C'], [3, 'C++'], [4, 'JAVA'], [5, 'MATLAB'] ]  # 2차원 데이터\n",
        "\n",
        "node = Node()\t\t\t# 첫 번째 노드\n",
        "node.data = dataArray[0]\n",
        "head = node\n",
        "memory.append(node)\n",
        "\n",
        "for data in dataArray[1:] :\t\t# 두 번째 노드부터\n",
        "    pre = node\n",
        "    node = Node()\n",
        "    node.data = data\n",
        "    pre.link = node\n",
        "    memory.append(node)\n",
        "\n",
        "print('## 초기 연결 리스트 ##')\n",
        "printNodes(head)\n",
        "\n",
        "print('\\n## R 삽입 결과 ##')\n",
        "insertNode('파이썬', [0, 'R'])\n",
        "printNodes(head)\n",
        "\n",
        "print('\\n## JAVA 삭제 결과 ##')\n",
        "deleteNode('JAVA')\n",
        "printNodes(head)\n",
        "\n",
        "print('\\n## MATLAB 검색 결과 ##')\n",
        "f_node = findNode('MATLAB')\n",
        "print(f_node.data)"
      ]
    },
    {
      "cell_type": "code",
      "execution_count": null,
      "metadata": {
        "id": "3fi2bKDvGmVg",
        "vscode": {
          "languageId": "python"
        }
      },
      "outputs": [],
      "source": []
    }
  ],
  "metadata": {
    "colab": {
      "provenance": [],
      "include_colab_link": true
    },
    "kernelspec": {
      "display_name": "Python 3",
      "language": "python",
      "name": "python3"
    }
  },
  "nbformat": 4,
  "nbformat_minor": 0
}